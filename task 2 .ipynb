{
 "cells": [
  {
   "cell_type": "markdown",
   "id": "959f1d4e",
   "metadata": {},
   "source": [
    "# Task 2 : Calculate summary statistics"
   ]
  },
  {
   "cell_type": "markdown",
   "id": "ab541715",
   "metadata": {},
   "source": [
    " Purpose of task : to find the summary statistics (like mean, median, mode, standard deviation) for a dataset"
   ]
  },
  {
   "cell_type": "markdown",
   "id": "09f8283a",
   "metadata": {},
   "source": [
    "data scorce: https://www.kaggle.com/code/kartikverma13/video-games-sales-eda"
   ]
  },
  {
   "cell_type": "code",
   "execution_count": 74,
   "id": "ba2f2a14",
   "metadata": {},
   "outputs": [],
   "source": [
    "# importing the libraries \n",
    "import pandas as pd\n",
    "import numpy as np"
   ]
  },
  {
   "cell_type": "code",
   "execution_count": 75,
   "id": "37e6078a",
   "metadata": {},
   "outputs": [],
   "source": [
    "data = pd.read_csv('video_game.csv')"
   ]
  },
  {
   "cell_type": "code",
   "execution_count": 76,
   "id": "45b739a2",
   "metadata": {},
   "outputs": [
    {
     "data": {
      "text/html": [
       "<div>\n",
       "<style scoped>\n",
       "    .dataframe tbody tr th:only-of-type {\n",
       "        vertical-align: middle;\n",
       "    }\n",
       "\n",
       "    .dataframe tbody tr th {\n",
       "        vertical-align: top;\n",
       "    }\n",
       "\n",
       "    .dataframe thead th {\n",
       "        text-align: right;\n",
       "    }\n",
       "</style>\n",
       "<table border=\"1\" class=\"dataframe\">\n",
       "  <thead>\n",
       "    <tr style=\"text-align: right;\">\n",
       "      <th></th>\n",
       "      <th>Rank</th>\n",
       "      <th>Name</th>\n",
       "      <th>Platform</th>\n",
       "      <th>Year</th>\n",
       "      <th>Genre</th>\n",
       "      <th>Publisher</th>\n",
       "      <th>NA_Sales</th>\n",
       "      <th>EU_Sales</th>\n",
       "      <th>JP_Sales</th>\n",
       "      <th>Other_Sales</th>\n",
       "      <th>Global_Sales</th>\n",
       "    </tr>\n",
       "  </thead>\n",
       "  <tbody>\n",
       "    <tr>\n",
       "      <th>0</th>\n",
       "      <td>1</td>\n",
       "      <td>Wii Sports</td>\n",
       "      <td>Wii</td>\n",
       "      <td>2006.0</td>\n",
       "      <td>Sports</td>\n",
       "      <td>Nintendo</td>\n",
       "      <td>41</td>\n",
       "      <td>29</td>\n",
       "      <td>4</td>\n",
       "      <td>8</td>\n",
       "      <td>83</td>\n",
       "    </tr>\n",
       "    <tr>\n",
       "      <th>1</th>\n",
       "      <td>2</td>\n",
       "      <td>Super Mario Bros.</td>\n",
       "      <td>NES</td>\n",
       "      <td>1985.0</td>\n",
       "      <td>Platform</td>\n",
       "      <td>Nintendo</td>\n",
       "      <td>29</td>\n",
       "      <td>4</td>\n",
       "      <td>7</td>\n",
       "      <td>1</td>\n",
       "      <td>40</td>\n",
       "    </tr>\n",
       "    <tr>\n",
       "      <th>2</th>\n",
       "      <td>3</td>\n",
       "      <td>Mario Kart Wii</td>\n",
       "      <td>Wii</td>\n",
       "      <td>2008.0</td>\n",
       "      <td>Racing</td>\n",
       "      <td>Nintendo</td>\n",
       "      <td>16</td>\n",
       "      <td>13</td>\n",
       "      <td>4</td>\n",
       "      <td>3</td>\n",
       "      <td>36</td>\n",
       "    </tr>\n",
       "    <tr>\n",
       "      <th>3</th>\n",
       "      <td>4</td>\n",
       "      <td>Wii Sports Resort</td>\n",
       "      <td>Wii</td>\n",
       "      <td>2009.0</td>\n",
       "      <td>Sports</td>\n",
       "      <td>Nintendo</td>\n",
       "      <td>16</td>\n",
       "      <td>11</td>\n",
       "      <td>3</td>\n",
       "      <td>3</td>\n",
       "      <td>33</td>\n",
       "    </tr>\n",
       "    <tr>\n",
       "      <th>4</th>\n",
       "      <td>5</td>\n",
       "      <td>Pokemon Red/Pokemon Blue</td>\n",
       "      <td>GB</td>\n",
       "      <td>1996.0</td>\n",
       "      <td>Role-Playing</td>\n",
       "      <td>Nintendo</td>\n",
       "      <td>11</td>\n",
       "      <td>9</td>\n",
       "      <td>10</td>\n",
       "      <td>1</td>\n",
       "      <td>31</td>\n",
       "    </tr>\n",
       "  </tbody>\n",
       "</table>\n",
       "</div>"
      ],
      "text/plain": [
       "   Rank                      Name Platform    Year         Genre Publisher  \\\n",
       "0     1                Wii Sports      Wii  2006.0        Sports  Nintendo   \n",
       "1     2         Super Mario Bros.      NES  1985.0      Platform  Nintendo   \n",
       "2     3            Mario Kart Wii      Wii  2008.0        Racing  Nintendo   \n",
       "3     4         Wii Sports Resort      Wii  2009.0        Sports  Nintendo   \n",
       "4     5  Pokemon Red/Pokemon Blue       GB  1996.0  Role-Playing  Nintendo   \n",
       "\n",
       "   NA_Sales  EU_Sales  JP_Sales  Other_Sales  Global_Sales  \n",
       "0        41        29         4            8            83  \n",
       "1        29         4         7            1            40  \n",
       "2        16        13         4            3            36  \n",
       "3        16        11         3            3            33  \n",
       "4        11         9        10            1            31  "
      ]
     },
     "execution_count": 76,
     "metadata": {},
     "output_type": "execute_result"
    }
   ],
   "source": [
    "data.head(5)"
   ]
  },
  {
   "cell_type": "code",
   "execution_count": 77,
   "id": "d68d698d",
   "metadata": {},
   "outputs": [
    {
     "data": {
      "text/html": [
       "<div>\n",
       "<style scoped>\n",
       "    .dataframe tbody tr th:only-of-type {\n",
       "        vertical-align: middle;\n",
       "    }\n",
       "\n",
       "    .dataframe tbody tr th {\n",
       "        vertical-align: top;\n",
       "    }\n",
       "\n",
       "    .dataframe thead th {\n",
       "        text-align: right;\n",
       "    }\n",
       "</style>\n",
       "<table border=\"1\" class=\"dataframe\">\n",
       "  <thead>\n",
       "    <tr style=\"text-align: right;\">\n",
       "      <th></th>\n",
       "      <th>Rank</th>\n",
       "      <th>Name</th>\n",
       "      <th>Platform</th>\n",
       "      <th>Year</th>\n",
       "      <th>Genre</th>\n",
       "      <th>Publisher</th>\n",
       "      <th>NA_Sales</th>\n",
       "      <th>EU_Sales</th>\n",
       "      <th>JP_Sales</th>\n",
       "      <th>Other_Sales</th>\n",
       "      <th>Global_Sales</th>\n",
       "    </tr>\n",
       "  </thead>\n",
       "  <tbody>\n",
       "    <tr>\n",
       "      <th>1994</th>\n",
       "      <td>1996</td>\n",
       "      <td>ATV: Quad Power Racing</td>\n",
       "      <td>PS</td>\n",
       "      <td>2000.0</td>\n",
       "      <td>Racing</td>\n",
       "      <td>Acclaim Entertainment</td>\n",
       "      <td>1</td>\n",
       "      <td>0</td>\n",
       "      <td>0</td>\n",
       "      <td>0</td>\n",
       "      <td>1</td>\n",
       "    </tr>\n",
       "    <tr>\n",
       "      <th>1995</th>\n",
       "      <td>1997</td>\n",
       "      <td>Disney Fairies: Tinker Bell and the Lost Treasure</td>\n",
       "      <td>DS</td>\n",
       "      <td>2009.0</td>\n",
       "      <td>Adventure</td>\n",
       "      <td>Disney Interactive Studios</td>\n",
       "      <td>1</td>\n",
       "      <td>0</td>\n",
       "      <td>0</td>\n",
       "      <td>0</td>\n",
       "      <td>1</td>\n",
       "    </tr>\n",
       "    <tr>\n",
       "      <th>1996</th>\n",
       "      <td>1998</td>\n",
       "      <td>Mega Man X4</td>\n",
       "      <td>PS</td>\n",
       "      <td>1996.0</td>\n",
       "      <td>Action</td>\n",
       "      <td>Virgin Interactive</td>\n",
       "      <td>0</td>\n",
       "      <td>0</td>\n",
       "      <td>0</td>\n",
       "      <td>0</td>\n",
       "      <td>1</td>\n",
       "    </tr>\n",
       "    <tr>\n",
       "      <th>1997</th>\n",
       "      <td>1999</td>\n",
       "      <td>Naruto: Clash of Ninja 2</td>\n",
       "      <td>GC</td>\n",
       "      <td>2003.0</td>\n",
       "      <td>Fighting</td>\n",
       "      <td>Nintendo</td>\n",
       "      <td>0</td>\n",
       "      <td>0</td>\n",
       "      <td>0</td>\n",
       "      <td>0</td>\n",
       "      <td>1</td>\n",
       "    </tr>\n",
       "    <tr>\n",
       "      <th>1998</th>\n",
       "      <td>2000</td>\n",
       "      <td>Dance Dance Revolution SuperNOVA</td>\n",
       "      <td>PS2</td>\n",
       "      <td>2006.0</td>\n",
       "      <td>Simulation</td>\n",
       "      <td>Konami Digital Entertainment</td>\n",
       "      <td>1</td>\n",
       "      <td>0</td>\n",
       "      <td>0</td>\n",
       "      <td>0</td>\n",
       "      <td>1</td>\n",
       "    </tr>\n",
       "  </tbody>\n",
       "</table>\n",
       "</div>"
      ],
      "text/plain": [
       "      Rank                                               Name Platform  \\\n",
       "1994  1996                             ATV: Quad Power Racing       PS   \n",
       "1995  1997  Disney Fairies: Tinker Bell and the Lost Treasure       DS   \n",
       "1996  1998                                        Mega Man X4       PS   \n",
       "1997  1999                           Naruto: Clash of Ninja 2       GC   \n",
       "1998  2000                   Dance Dance Revolution SuperNOVA      PS2   \n",
       "\n",
       "        Year       Genre                     Publisher  NA_Sales  EU_Sales  \\\n",
       "1994  2000.0      Racing         Acclaim Entertainment         1         0   \n",
       "1995  2009.0   Adventure    Disney Interactive Studios         1         0   \n",
       "1996  1996.0      Action            Virgin Interactive         0         0   \n",
       "1997  2003.0    Fighting                      Nintendo         0         0   \n",
       "1998  2006.0  Simulation  Konami Digital Entertainment         1         0   \n",
       "\n",
       "      JP_Sales  Other_Sales  Global_Sales  \n",
       "1994         0            0             1  \n",
       "1995         0            0             1  \n",
       "1996         0            0             1  \n",
       "1997         0            0             1  \n",
       "1998         0            0             1  "
      ]
     },
     "execution_count": 77,
     "metadata": {},
     "output_type": "execute_result"
    }
   ],
   "source": [
    "data.tail()"
   ]
  },
  {
   "cell_type": "code",
   "execution_count": 78,
   "id": "a6993220",
   "metadata": {},
   "outputs": [
    {
     "data": {
      "text/plain": [
       "(1999, 11)"
      ]
     },
     "execution_count": 78,
     "metadata": {},
     "output_type": "execute_result"
    }
   ],
   "source": [
    "data.shape # to check the no of rows and column present in the file"
   ]
  },
  {
   "cell_type": "code",
   "execution_count": 79,
   "id": "9b6b82ee",
   "metadata": {},
   "outputs": [
    {
     "name": "stdout",
     "output_type": "stream",
     "text": [
      "<class 'pandas.core.frame.DataFrame'>\n",
      "RangeIndex: 1999 entries, 0 to 1998\n",
      "Data columns (total 11 columns):\n",
      " #   Column        Non-Null Count  Dtype  \n",
      "---  ------        --------------  -----  \n",
      " 0   Rank          1999 non-null   int64  \n",
      " 1   Name          1999 non-null   object \n",
      " 2   Platform      1999 non-null   object \n",
      " 3   Year          1978 non-null   float64\n",
      " 4   Genre         1999 non-null   object \n",
      " 5   Publisher     1996 non-null   object \n",
      " 6   NA_Sales      1999 non-null   int64  \n",
      " 7   EU_Sales      1999 non-null   int64  \n",
      " 8   JP_Sales      1999 non-null   int64  \n",
      " 9   Other_Sales   1999 non-null   int64  \n",
      " 10  Global_Sales  1999 non-null   int64  \n",
      "dtypes: float64(1), int64(6), object(4)\n",
      "memory usage: 171.9+ KB\n"
     ]
    }
   ],
   "source": [
    "data.info() # to check the not null values and check the datatype of the column"
   ]
  },
  {
   "cell_type": "code",
   "execution_count": 80,
   "id": "bd32f731",
   "metadata": {},
   "outputs": [
    {
     "data": {
      "text/plain": [
       "Index(['Rank', 'Name', 'Platform', 'Year', 'Genre', 'Publisher', 'NA_Sales',\n",
       "       'EU_Sales', 'JP_Sales', 'Other_Sales', 'Global_Sales'],\n",
       "      dtype='object')"
      ]
     },
     "execution_count": 80,
     "metadata": {},
     "output_type": "execute_result"
    }
   ],
   "source": [
    "data.columns # to check the no of column present in the dataset"
   ]
  },
  {
   "cell_type": "code",
   "execution_count": 81,
   "id": "2afffa2c",
   "metadata": {},
   "outputs": [
    {
     "data": {
      "text/plain": [
       "Rank             0\n",
       "Name             0\n",
       "Platform         0\n",
       "Year            21\n",
       "Genre            0\n",
       "Publisher        3\n",
       "NA_Sales         0\n",
       "EU_Sales         0\n",
       "JP_Sales         0\n",
       "Other_Sales      0\n",
       "Global_Sales     0\n",
       "dtype: int64"
      ]
     },
     "execution_count": 81,
     "metadata": {},
     "output_type": "execute_result"
    }
   ],
   "source": [
    "data.isnull().sum() # to chekc the null values"
   ]
  },
  {
   "cell_type": "code",
   "execution_count": 82,
   "id": "54d80750",
   "metadata": {},
   "outputs": [],
   "source": [
    "data.dropna(inplace = True) # drop the null values "
   ]
  },
  {
   "cell_type": "code",
   "execution_count": 83,
   "id": "0813575a",
   "metadata": {},
   "outputs": [
    {
     "data": {
      "text/plain": [
       "Rank            0\n",
       "Name            0\n",
       "Platform        0\n",
       "Year            0\n",
       "Genre           0\n",
       "Publisher       0\n",
       "NA_Sales        0\n",
       "EU_Sales        0\n",
       "JP_Sales        0\n",
       "Other_Sales     0\n",
       "Global_Sales    0\n",
       "dtype: int64"
      ]
     },
     "execution_count": 83,
     "metadata": {},
     "output_type": "execute_result"
    }
   ],
   "source": [
    "data.isnull().sum() # after dropping the nulll values now there are "
   ]
  },
  {
   "cell_type": "code",
   "execution_count": 84,
   "id": "e44d3339",
   "metadata": {},
   "outputs": [
    {
     "data": {
      "text/html": [
       "<div>\n",
       "<style scoped>\n",
       "    .dataframe tbody tr th:only-of-type {\n",
       "        vertical-align: middle;\n",
       "    }\n",
       "\n",
       "    .dataframe tbody tr th {\n",
       "        vertical-align: top;\n",
       "    }\n",
       "\n",
       "    .dataframe thead th {\n",
       "        text-align: right;\n",
       "    }\n",
       "</style>\n",
       "<table border=\"1\" class=\"dataframe\">\n",
       "  <thead>\n",
       "    <tr style=\"text-align: right;\">\n",
       "      <th></th>\n",
       "      <th>Rank</th>\n",
       "      <th>Name</th>\n",
       "      <th>Platform</th>\n",
       "      <th>Year</th>\n",
       "      <th>Genre</th>\n",
       "      <th>Publisher</th>\n",
       "      <th>NA_Sales</th>\n",
       "      <th>EU_Sales</th>\n",
       "      <th>JP_Sales</th>\n",
       "      <th>Other_Sales</th>\n",
       "      <th>Global_Sales</th>\n",
       "    </tr>\n",
       "  </thead>\n",
       "  <tbody>\n",
       "    <tr>\n",
       "      <th>0</th>\n",
       "      <td>1</td>\n",
       "      <td>Wii Sports</td>\n",
       "      <td>Wii</td>\n",
       "      <td>2006.0</td>\n",
       "      <td>Sports</td>\n",
       "      <td>Nintendo</td>\n",
       "      <td>41</td>\n",
       "      <td>29</td>\n",
       "      <td>4</td>\n",
       "      <td>8</td>\n",
       "      <td>83</td>\n",
       "    </tr>\n",
       "    <tr>\n",
       "      <th>1</th>\n",
       "      <td>2</td>\n",
       "      <td>Super Mario Bros.</td>\n",
       "      <td>NES</td>\n",
       "      <td>1985.0</td>\n",
       "      <td>Platform</td>\n",
       "      <td>Nintendo</td>\n",
       "      <td>29</td>\n",
       "      <td>4</td>\n",
       "      <td>7</td>\n",
       "      <td>1</td>\n",
       "      <td>40</td>\n",
       "    </tr>\n",
       "    <tr>\n",
       "      <th>2</th>\n",
       "      <td>3</td>\n",
       "      <td>Mario Kart Wii</td>\n",
       "      <td>Wii</td>\n",
       "      <td>2008.0</td>\n",
       "      <td>Racing</td>\n",
       "      <td>Nintendo</td>\n",
       "      <td>16</td>\n",
       "      <td>13</td>\n",
       "      <td>4</td>\n",
       "      <td>3</td>\n",
       "      <td>36</td>\n",
       "    </tr>\n",
       "    <tr>\n",
       "      <th>3</th>\n",
       "      <td>4</td>\n",
       "      <td>Wii Sports Resort</td>\n",
       "      <td>Wii</td>\n",
       "      <td>2009.0</td>\n",
       "      <td>Sports</td>\n",
       "      <td>Nintendo</td>\n",
       "      <td>16</td>\n",
       "      <td>11</td>\n",
       "      <td>3</td>\n",
       "      <td>3</td>\n",
       "      <td>33</td>\n",
       "    </tr>\n",
       "    <tr>\n",
       "      <th>4</th>\n",
       "      <td>5</td>\n",
       "      <td>Pokemon Red/Pokemon Blue</td>\n",
       "      <td>GB</td>\n",
       "      <td>1996.0</td>\n",
       "      <td>Role-Playing</td>\n",
       "      <td>Nintendo</td>\n",
       "      <td>11</td>\n",
       "      <td>9</td>\n",
       "      <td>10</td>\n",
       "      <td>1</td>\n",
       "      <td>31</td>\n",
       "    </tr>\n",
       "    <tr>\n",
       "      <th>...</th>\n",
       "      <td>...</td>\n",
       "      <td>...</td>\n",
       "      <td>...</td>\n",
       "      <td>...</td>\n",
       "      <td>...</td>\n",
       "      <td>...</td>\n",
       "      <td>...</td>\n",
       "      <td>...</td>\n",
       "      <td>...</td>\n",
       "      <td>...</td>\n",
       "      <td>...</td>\n",
       "    </tr>\n",
       "    <tr>\n",
       "      <th>1994</th>\n",
       "      <td>1996</td>\n",
       "      <td>ATV: Quad Power Racing</td>\n",
       "      <td>PS</td>\n",
       "      <td>2000.0</td>\n",
       "      <td>Racing</td>\n",
       "      <td>Acclaim Entertainment</td>\n",
       "      <td>1</td>\n",
       "      <td>0</td>\n",
       "      <td>0</td>\n",
       "      <td>0</td>\n",
       "      <td>1</td>\n",
       "    </tr>\n",
       "    <tr>\n",
       "      <th>1995</th>\n",
       "      <td>1997</td>\n",
       "      <td>Disney Fairies: Tinker Bell and the Lost Treasure</td>\n",
       "      <td>DS</td>\n",
       "      <td>2009.0</td>\n",
       "      <td>Adventure</td>\n",
       "      <td>Disney Interactive Studios</td>\n",
       "      <td>1</td>\n",
       "      <td>0</td>\n",
       "      <td>0</td>\n",
       "      <td>0</td>\n",
       "      <td>1</td>\n",
       "    </tr>\n",
       "    <tr>\n",
       "      <th>1996</th>\n",
       "      <td>1998</td>\n",
       "      <td>Mega Man X4</td>\n",
       "      <td>PS</td>\n",
       "      <td>1996.0</td>\n",
       "      <td>Action</td>\n",
       "      <td>Virgin Interactive</td>\n",
       "      <td>0</td>\n",
       "      <td>0</td>\n",
       "      <td>0</td>\n",
       "      <td>0</td>\n",
       "      <td>1</td>\n",
       "    </tr>\n",
       "    <tr>\n",
       "      <th>1997</th>\n",
       "      <td>1999</td>\n",
       "      <td>Naruto: Clash of Ninja 2</td>\n",
       "      <td>GC</td>\n",
       "      <td>2003.0</td>\n",
       "      <td>Fighting</td>\n",
       "      <td>Nintendo</td>\n",
       "      <td>0</td>\n",
       "      <td>0</td>\n",
       "      <td>0</td>\n",
       "      <td>0</td>\n",
       "      <td>1</td>\n",
       "    </tr>\n",
       "    <tr>\n",
       "      <th>1998</th>\n",
       "      <td>2000</td>\n",
       "      <td>Dance Dance Revolution SuperNOVA</td>\n",
       "      <td>PS2</td>\n",
       "      <td>2006.0</td>\n",
       "      <td>Simulation</td>\n",
       "      <td>Konami Digital Entertainment</td>\n",
       "      <td>1</td>\n",
       "      <td>0</td>\n",
       "      <td>0</td>\n",
       "      <td>0</td>\n",
       "      <td>1</td>\n",
       "    </tr>\n",
       "  </tbody>\n",
       "</table>\n",
       "<p>1977 rows × 11 columns</p>\n",
       "</div>"
      ],
      "text/plain": [
       "      Rank                                               Name Platform  \\\n",
       "0        1                                         Wii Sports      Wii   \n",
       "1        2                                  Super Mario Bros.      NES   \n",
       "2        3                                     Mario Kart Wii      Wii   \n",
       "3        4                                  Wii Sports Resort      Wii   \n",
       "4        5                           Pokemon Red/Pokemon Blue       GB   \n",
       "...    ...                                                ...      ...   \n",
       "1994  1996                             ATV: Quad Power Racing       PS   \n",
       "1995  1997  Disney Fairies: Tinker Bell and the Lost Treasure       DS   \n",
       "1996  1998                                        Mega Man X4       PS   \n",
       "1997  1999                           Naruto: Clash of Ninja 2       GC   \n",
       "1998  2000                   Dance Dance Revolution SuperNOVA      PS2   \n",
       "\n",
       "        Year         Genre                     Publisher  NA_Sales  EU_Sales  \\\n",
       "0     2006.0        Sports                      Nintendo        41        29   \n",
       "1     1985.0      Platform                      Nintendo        29         4   \n",
       "2     2008.0        Racing                      Nintendo        16        13   \n",
       "3     2009.0        Sports                      Nintendo        16        11   \n",
       "4     1996.0  Role-Playing                      Nintendo        11         9   \n",
       "...      ...           ...                           ...       ...       ...   \n",
       "1994  2000.0        Racing         Acclaim Entertainment         1         0   \n",
       "1995  2009.0     Adventure    Disney Interactive Studios         1         0   \n",
       "1996  1996.0        Action            Virgin Interactive         0         0   \n",
       "1997  2003.0      Fighting                      Nintendo         0         0   \n",
       "1998  2006.0    Simulation  Konami Digital Entertainment         1         0   \n",
       "\n",
       "      JP_Sales  Other_Sales  Global_Sales  \n",
       "0            4            8            83  \n",
       "1            7            1            40  \n",
       "2            4            3            36  \n",
       "3            3            3            33  \n",
       "4           10            1            31  \n",
       "...        ...          ...           ...  \n",
       "1994         0            0             1  \n",
       "1995         0            0             1  \n",
       "1996         0            0             1  \n",
       "1997         0            0             1  \n",
       "1998         0            0             1  \n",
       "\n",
       "[1977 rows x 11 columns]"
      ]
     },
     "execution_count": 84,
     "metadata": {},
     "output_type": "execute_result"
    }
   ],
   "source": [
    "data"
   ]
  },
  {
   "cell_type": "code",
   "execution_count": 85,
   "id": "2257392b",
   "metadata": {},
   "outputs": [
    {
     "data": {
      "text/html": [
       "<div>\n",
       "<style scoped>\n",
       "    .dataframe tbody tr th:only-of-type {\n",
       "        vertical-align: middle;\n",
       "    }\n",
       "\n",
       "    .dataframe tbody tr th {\n",
       "        vertical-align: top;\n",
       "    }\n",
       "\n",
       "    .dataframe thead th {\n",
       "        text-align: right;\n",
       "    }\n",
       "</style>\n",
       "<table border=\"1\" class=\"dataframe\">\n",
       "  <thead>\n",
       "    <tr style=\"text-align: right;\">\n",
       "      <th></th>\n",
       "      <th>Rank</th>\n",
       "      <th>Year</th>\n",
       "      <th>NA_Sales</th>\n",
       "      <th>EU_Sales</th>\n",
       "      <th>JP_Sales</th>\n",
       "      <th>Other_Sales</th>\n",
       "      <th>Global_Sales</th>\n",
       "    </tr>\n",
       "  </thead>\n",
       "  <tbody>\n",
       "    <tr>\n",
       "      <th>count</th>\n",
       "      <td>1977.000000</td>\n",
       "      <td>1977.000000</td>\n",
       "      <td>1977.000000</td>\n",
       "      <td>1977.000000</td>\n",
       "      <td>1977.000000</td>\n",
       "      <td>1977.000000</td>\n",
       "      <td>1977.000000</td>\n",
       "    </tr>\n",
       "    <tr>\n",
       "      <th>mean</th>\n",
       "      <td>999.697521</td>\n",
       "      <td>2004.662114</td>\n",
       "      <td>1.406171</td>\n",
       "      <td>0.781487</td>\n",
       "      <td>0.324734</td>\n",
       "      <td>0.149216</td>\n",
       "      <td>2.786039</td>\n",
       "    </tr>\n",
       "    <tr>\n",
       "      <th>std</th>\n",
       "      <td>577.934860</td>\n",
       "      <td>7.233885</td>\n",
       "      <td>2.016988</td>\n",
       "      <td>1.306245</td>\n",
       "      <td>0.822114</td>\n",
       "      <td>0.540365</td>\n",
       "      <td>3.758021</td>\n",
       "    </tr>\n",
       "    <tr>\n",
       "      <th>min</th>\n",
       "      <td>1.000000</td>\n",
       "      <td>1980.000000</td>\n",
       "      <td>0.000000</td>\n",
       "      <td>0.000000</td>\n",
       "      <td>0.000000</td>\n",
       "      <td>0.000000</td>\n",
       "      <td>1.000000</td>\n",
       "    </tr>\n",
       "    <tr>\n",
       "      <th>25%</th>\n",
       "      <td>499.000000</td>\n",
       "      <td>2001.000000</td>\n",
       "      <td>1.000000</td>\n",
       "      <td>0.000000</td>\n",
       "      <td>0.000000</td>\n",
       "      <td>0.000000</td>\n",
       "      <td>1.000000</td>\n",
       "    </tr>\n",
       "    <tr>\n",
       "      <th>50%</th>\n",
       "      <td>1000.000000</td>\n",
       "      <td>2006.000000</td>\n",
       "      <td>1.000000</td>\n",
       "      <td>1.000000</td>\n",
       "      <td>0.000000</td>\n",
       "      <td>0.000000</td>\n",
       "      <td>2.000000</td>\n",
       "    </tr>\n",
       "    <tr>\n",
       "      <th>75%</th>\n",
       "      <td>1498.000000</td>\n",
       "      <td>2010.000000</td>\n",
       "      <td>2.000000</td>\n",
       "      <td>1.000000</td>\n",
       "      <td>0.000000</td>\n",
       "      <td>0.000000</td>\n",
       "      <td>3.000000</td>\n",
       "    </tr>\n",
       "    <tr>\n",
       "      <th>max</th>\n",
       "      <td>2000.000000</td>\n",
       "      <td>2016.000000</td>\n",
       "      <td>41.000000</td>\n",
       "      <td>29.000000</td>\n",
       "      <td>10.000000</td>\n",
       "      <td>11.000000</td>\n",
       "      <td>83.000000</td>\n",
       "    </tr>\n",
       "  </tbody>\n",
       "</table>\n",
       "</div>"
      ],
      "text/plain": [
       "              Rank         Year     NA_Sales     EU_Sales     JP_Sales  \\\n",
       "count  1977.000000  1977.000000  1977.000000  1977.000000  1977.000000   \n",
       "mean    999.697521  2004.662114     1.406171     0.781487     0.324734   \n",
       "std     577.934860     7.233885     2.016988     1.306245     0.822114   \n",
       "min       1.000000  1980.000000     0.000000     0.000000     0.000000   \n",
       "25%     499.000000  2001.000000     1.000000     0.000000     0.000000   \n",
       "50%    1000.000000  2006.000000     1.000000     1.000000     0.000000   \n",
       "75%    1498.000000  2010.000000     2.000000     1.000000     0.000000   \n",
       "max    2000.000000  2016.000000    41.000000    29.000000    10.000000   \n",
       "\n",
       "       Other_Sales  Global_Sales  \n",
       "count  1977.000000   1977.000000  \n",
       "mean      0.149216      2.786039  \n",
       "std       0.540365      3.758021  \n",
       "min       0.000000      1.000000  \n",
       "25%       0.000000      1.000000  \n",
       "50%       0.000000      2.000000  \n",
       "75%       0.000000      3.000000  \n",
       "max      11.000000     83.000000  "
      ]
     },
     "execution_count": 85,
     "metadata": {},
     "output_type": "execute_result"
    }
   ],
   "source": [
    "data.describe() "
   ]
  },
  {
   "cell_type": "markdown",
   "id": "72929368",
   "metadata": {},
   "source": [
    "1. To find the mean"
   ]
  },
  {
   "cell_type": "code",
   "execution_count": 86,
   "id": "3cf365e7",
   "metadata": {},
   "outputs": [
    {
     "data": {
      "text/plain": [
       "NA_Sales        1.406171\n",
       "EU_Sales        0.781487\n",
       "JP_Sales        0.324734\n",
       "Other_Sales     0.149216\n",
       "Global_Sales    2.786039\n",
       "dtype: float64"
      ]
     },
     "execution_count": 86,
     "metadata": {},
     "output_type": "execute_result"
    }
   ],
   "source": [
    "data[['NA_Sales','EU_Sales','JP_Sales','Other_Sales','Global_Sales']].mean()"
   ]
  },
  {
   "cell_type": "markdown",
   "id": "349573c8",
   "metadata": {},
   "source": [
    "2. to find the median "
   ]
  },
  {
   "cell_type": "code",
   "execution_count": 87,
   "id": "4e68b590",
   "metadata": {},
   "outputs": [
    {
     "data": {
      "text/plain": [
       "NA_Sales        1.0\n",
       "EU_Sales        1.0\n",
       "JP_Sales        0.0\n",
       "Other_Sales     0.0\n",
       "Global_Sales    2.0\n",
       "dtype: float64"
      ]
     },
     "execution_count": 87,
     "metadata": {},
     "output_type": "execute_result"
    }
   ],
   "source": [
    "data[['NA_Sales','EU_Sales','JP_Sales','Other_Sales','Global_Sales']].median()"
   ]
  },
  {
   "cell_type": "markdown",
   "id": "a0b599ad",
   "metadata": {},
   "source": [
    "3. to find the standard deviation "
   ]
  },
  {
   "cell_type": "code",
   "execution_count": 89,
   "id": "03aa22c8",
   "metadata": {},
   "outputs": [
    {
     "data": {
      "text/plain": [
       "NA_Sales        2.016988\n",
       "EU_Sales        1.306245\n",
       "JP_Sales        0.822114\n",
       "Other_Sales     0.540365\n",
       "Global_Sales    3.758021\n",
       "dtype: float64"
      ]
     },
     "execution_count": 89,
     "metadata": {},
     "output_type": "execute_result"
    }
   ],
   "source": [
    "data[['NA_Sales','EU_Sales','JP_Sales','Other_Sales','Global_Sales']].std()"
   ]
  },
  {
   "cell_type": "markdown",
   "id": "b2d03b2a",
   "metadata": {},
   "source": [
    "# Thank You\n",
    "Task performed by: Bhargavi marathe"
   ]
  },
  {
   "cell_type": "markdown",
   "id": "19c974cc",
   "metadata": {},
   "source": [
    "Linkedin : www.linkedin.com/in/bhargavi-marathe-17369525a"
   ]
  },
  {
   "cell_type": "markdown",
   "id": "3c62f908",
   "metadata": {},
   "source": [
    "Github:https://github.com/bhargavi-mar"
   ]
  }
 ],
 "metadata": {
  "kernelspec": {
   "display_name": "Python 3 (ipykernel)",
   "language": "python",
   "name": "python3"
  },
  "language_info": {
   "codemirror_mode": {
    "name": "ipython",
    "version": 3
   },
   "file_extension": ".py",
   "mimetype": "text/x-python",
   "name": "python",
   "nbconvert_exporter": "python",
   "pygments_lexer": "ipython3",
   "version": "3.11.2"
  }
 },
 "nbformat": 4,
 "nbformat_minor": 5
}
